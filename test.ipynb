{
 "cells": [
  {
   "cell_type": "code",
   "execution_count": 1,
   "id": "de2e27f7",
   "metadata": {},
   "outputs": [],
   "source": [
    "import requests\n",
    "from bs4 import BeautifulSoup\n",
    "\n",
    "\n",
    "def getHtml(url):\n",
    "    r = requests.get(url)\n",
    "    soup = BeautifulSoup(r.text, \"html.parser\")\n",
    "    return soup\n"
   ]
  },
  {
   "cell_type": "code",
   "execution_count": 24,
   "id": "7f163217",
   "metadata": {},
   "outputs": [
    {
     "data": {
      "text/plain": [
       "'https://files.jntufastupdates.com/download/mathematics-iii-july-2022/?wpdmdl=43382&refresh=6454c79ec115b1683277726'"
      ]
     },
     "execution_count": 24,
     "metadata": {},
     "output_type": "execute_result"
    }
   ],
   "source": [
    "def downloadPdf(url):\n",
    "    sp = getHtml(url)\n",
    "    return sp.find(\"a\", class_=\"wpdm-download-link download-on-click btn btn-primary\")[\"data-downloadurl\"]\n",
    "\n",
    "downloadPdf(\"https://files.jntufastupdates.com/download/mathematics-iii-july-2022/\")"
   ]
  },
  {
   "cell_type": "code",
   "execution_count": 35,
   "id": "90411558",
   "metadata": {
    "scrolled": true
   },
   "outputs": [
    {
     "data": {
      "text/html": [
       "<p><strong>JNTUK 1-1 R20 Question Papers 2022:</strong> JNTUK B.Tech 1-1 Sem (R20) Supply Question Papers Aug/Sept 2022, Jntu kakinada 1-1 semester r20 regulation previous question papers and important questions download.</p>"
      ],
      "text/plain": [
       "<IPython.core.display.HTML object>"
      ]
     },
     "metadata": {},
     "output_type": "display_data"
    },
    {
     "data": {
      "text/html": [
       "<p><strong>End Examinations B.Tech (R20) Question Paper Pattern :</strong></p>"
      ],
      "text/plain": [
       "<IPython.core.display.HTML object>"
      ]
     },
     "metadata": {},
     "output_type": "display_data"
    },
    {
     "data": {
      "text/html": [
       "<a data-wpel-link=\"external\" href=\"https://files.jntufastupdates.com/download/applied-chemistry-aug-sept-2022/?wpdmdl=43430&amp;refresh=6454a12736a921683267879\" rel=\"nofollow external noopener noreferrer\" target=\"_blank\">Applied Chemistry</a>"
      ],
      "text/plain": [
       "<IPython.core.display.HTML object>"
      ]
     },
     "metadata": {},
     "output_type": "display_data"
    },
    {
     "data": {
      "text/html": [
       "<a data-wpel-link=\"external\" href=\"https://files.jntufastupdates.com/download/applied-physics-aug-sept-2022/?wpdmdl=43431&amp;refresh=6454ce9577a0f1683279509\" rel=\"nofollow external noopener noreferrer\" target=\"_blank\">Applied Physics</a>"
      ],
      "text/plain": [
       "<IPython.core.display.HTML object>"
      ]
     },
     "metadata": {},
     "output_type": "display_data"
    },
    {
     "data": {
      "text/html": [
       "<a data-wpel-link=\"external\" href=\"https://files.jntufastupdates.com/download/communicative-english-aug-sept-2022/?wpdmdl=43432&amp;refresh=6454cca69a0611683279014\" rel=\"nofollow external noopener noreferrer\" target=\"_blank\">COMMUNICATIVE ENGLISH</a>"
      ],
      "text/plain": [
       "<IPython.core.display.HTML object>"
      ]
     },
     "metadata": {},
     "output_type": "display_data"
    },
    {
     "data": {
      "text/html": [
       "<a data-wpel-link=\"external\" href=\"https://files.jntufastupdates.com/download/design-drawing-and-visualization-aug-sept-2022/?wpdmdl=43443&amp;refresh=6454ce95f1b741683279509\" rel=\"nofollow external noopener noreferrer\" target=\"_blank\">DESIGN DRAWING AND VISUALIZATION</a>"
      ],
      "text/plain": [
       "<IPython.core.display.HTML object>"
      ]
     },
     "metadata": {},
     "output_type": "display_data"
    },
    {
     "data": {
      "text/html": [
       "<a data-wpel-link=\"external\" href=\"https://files.jntufastupdates.com/download/engineering-chemistry-aug-sept-2022/?wpdmdl=43439&amp;refresh=6454c66a632611683277418\" rel=\"nofollow external noopener noreferrer\" target=\"_blank\">ENGINEERING CHEMISTRY</a>"
      ],
      "text/plain": [
       "<IPython.core.display.HTML object>"
      ]
     },
     "metadata": {},
     "output_type": "display_data"
    },
    {
     "data": {
      "text/html": [
       "<a data-wpel-link=\"external\" href=\"https://files.jntufastupdates.com/download/engineering-drawing-design-aug-sept-2022/?wpdmdl=43433&amp;refresh=6454ce96667521683279510\" rel=\"nofollow external noopener noreferrer\" target=\"_blank\">Engineering Drawing and Design</a>"
      ],
      "text/plain": [
       "<IPython.core.display.HTML object>"
      ]
     },
     "metadata": {},
     "output_type": "display_data"
    },
    {
     "data": {
      "text/html": [
       "<a data-wpel-link=\"external\" href=\"https://files.jntufastupdates.com/download/engineering-drawing-aug-sept-2022/?wpdmdl=43434&amp;refresh=6454ce96b8dfa1683279510\" rel=\"nofollow external noopener noreferrer\" target=\"_blank\">Engineering Drawing</a>"
      ],
      "text/plain": [
       "<IPython.core.display.HTML object>"
      ]
     },
     "metadata": {},
     "output_type": "display_data"
    },
    {
     "data": {
      "text/html": [
       "<a data-wpel-link=\"external\" href=\"https://files.jntufastupdates.com/download/engineering-geology-aug-sept-2022/?wpdmdl=43440&amp;refresh=6454c6a4957ab1683277476\" rel=\"nofollow external noopener noreferrer\" target=\"_blank\">ENGINEERING GEOLOGY</a>"
      ],
      "text/plain": [
       "<IPython.core.display.HTML object>"
      ]
     },
     "metadata": {},
     "output_type": "display_data"
    },
    {
     "data": {
      "text/html": [
       "<a data-wpel-link=\"external\" href=\"https://files.jntufastupdates.com/download/engineering-physics-aug-sept-2022/?wpdmdl=43435&amp;refresh=6454ce972fa741683279511\" rel=\"nofollow external noopener noreferrer\" target=\"_blank\">ENGINEERING PHYSICS</a>"
      ],
      "text/plain": [
       "<IPython.core.display.HTML object>"
      ]
     },
     "metadata": {},
     "output_type": "display_data"
    },
    {
     "data": {
      "text/html": [
       "<a data-wpel-link=\"external\" href=\"https://files.jntufastupdates.com/download/mathematics-i-aug-sept-2022/?wpdmdl=43436&amp;refresh=6454ce9784ab81683279511\" rel=\"nofollow external noopener noreferrer\" target=\"_blank\">Mathematics – I</a>"
      ],
      "text/plain": [
       "<IPython.core.display.HTML object>"
      ]
     },
     "metadata": {},
     "output_type": "display_data"
    },
    {
     "data": {
      "text/html": [
       "<a data-wpel-link=\"external\" href=\"https://files.jntufastupdates.com/download/mathematics-ii-aug-sept-2022/?wpdmdl=43437&amp;refresh=645495ab475971683264939\" rel=\"nofollow external noopener noreferrer\" target=\"_blank\">Mathematics-II</a>"
      ],
      "text/plain": [
       "<IPython.core.display.HTML object>"
      ]
     },
     "metadata": {},
     "output_type": "display_data"
    },
    {
     "data": {
      "text/html": [
       "<a data-wpel-link=\"external\" href=\"https://files.jntufastupdates.com/download/engineering-mechanics-aug-sept-2022/?wpdmdl=43444&amp;refresh=6454bfda2ac9c1683275738\" rel=\"nofollow external noopener noreferrer\" target=\"_blank\">Engineering Mechanics</a>"
      ],
      "text/plain": [
       "<IPython.core.display.HTML object>"
      ]
     },
     "metadata": {},
     "output_type": "display_data"
    },
    {
     "data": {
      "text/html": [
       "<a data-wpel-link=\"external\" href=\"https://files.jntufastupdates.com/download/programming-for-problem-solving-using-c-aug-sept-2022/?wpdmdl=43438&amp;refresh=6454b7d60392d1683273686\" rel=\"nofollow external noopener noreferrer\" target=\"_blank\">PROGRAMMING FOR PROBLEM SOLVING USING C</a>"
      ],
      "text/plain": [
       "<IPython.core.display.HTML object>"
      ]
     },
     "metadata": {},
     "output_type": "display_data"
    },
    {
     "data": {
      "text/html": [
       "<a data-wpel-link=\"external\" href=\"https://files.jntufastupdates.com/download/principles-of-soil-science-and-agronomy-aug-sept-2022/?wpdmdl=43441&amp;refresh=6454ce9855d461683279512\" rel=\"nofollow external noopener noreferrer\" target=\"_blank\">PRINCIPLES OF SOIL SCIENCE AND AGRONOMY</a>"
      ],
      "text/plain": [
       "<IPython.core.display.HTML object>"
      ]
     },
     "metadata": {},
     "output_type": "display_data"
    }
   ],
   "source": [
    "from pprint import pprint\n",
    "from IPython.display import display, HTML\n",
    "\n",
    "def setParaTags(url):\n",
    "    soup = getHtml(url)\n",
    "    div = soup.find(\"div\", class_=\"td-post-content tagdiv-type\")\n",
    "    p_tags = div.find_all(\"p\", class_=None)\n",
    "    filtered_ptags = []\n",
    "    \n",
    "    for tg in p_tags:\n",
    "        if(tg.find(\"strong\")):\n",
    "            filtered_ptags.append(tg)\n",
    "        a_tag = tg.find(\"a\")\n",
    "        if(a_tag):\n",
    "            a_tag_link = a_tag[\"href\"]\n",
    "\n",
    "            try:\n",
    "                x = downloadPdf(a_tag_link)\n",
    "                a_tag[\"href\"] = x\n",
    "                filtered_ptags.append(a_tag)\n",
    "            except Exception as e:\n",
    "                pass\n",
    "    \n",
    "    \n",
    "    for p_tag in filtered_ptags:\n",
    "        display(HTML(str(p_tag)))\n",
    "    return filtered_ptags\n",
    "    \n",
    "t = setParaTags(\"https://www.jntufastupdates.com/jntuk-1-1-r20-question-papers-aug-2022/\")"
   ]
  },
  {
   "cell_type": "code",
   "execution_count": 56,
   "id": "51aba5c0",
   "metadata": {
    "scrolled": false
   },
   "outputs": [
    {
     "data": {
      "text/plain": [
       "[{'text': 'JNTUK B.Tech 4-2 Sem (R16) Advanced Supply Question Papers Aug/Sept 2022',\n",
       "  'id': 'jntuk-4-2-r16-question-papers-aug-2022'},\n",
       " {'text': 'JNTUK B.Tech 4-2 Sem (R16) Regular/Supply Question Papers June 2022',\n",
       "  'id': 'jntuk-4-2-r16-question-papers-june-2022'},\n",
       " {'text': 'JNTUK B.Tech 4-2 Sem (R16) Regular/Supply Question Papers July 2021',\n",
       "  'id': 'jntuk-4-2-r16-question-papers-july-2021'},\n",
       " {'text': 'JNTUK B.Tech 4-2 Sem (R16) Regular Question Papers Sept 2020',\n",
       "  'id': 'jntuk-4-2-r16-question-papers-sept-2020'},\n",
       " {'text': 'JNTUK B.Tech 4-2 Sem (R13) Regular/Supply Question Papers April/May 2019',\n",
       "  'id': 'jntuk-4-2-r13-question-papers-april-2019'},\n",
       " {'text': 'JNTUK B.Tech 4-2 Sem (R13) Regular/Supply Question Papers April 2018',\n",
       "  'id': 'jntuk-bt-4-2-r13-question-papers-april-2018'},\n",
       " {'text': 'JNTUK B.Tech 4-2 Sem (R13) Adv Supply Question Papers July/August 2017',\n",
       "  'id': 'jntuk-b-tech-4-2-r13-supply-question-papers-july-2017'},\n",
       " {'text': 'JNTUK B.Tech 4-2 Sem (R13) Regular Question Papers May 2017',\n",
       "  'id': 'jntuk-b-tech-4-2-r13-regular-question-papers-may-2017'}]"
      ]
     },
     "execution_count": 56,
     "metadata": {},
     "output_type": "execute_result"
    }
   ],
   "source": [
    "def homepageHandler(yy, sem):\n",
    "    url = f\"https://www.jntufastupdates.com/jntuk-{yy}-{sem}-question-papers/\"\n",
    "    sp = getHtml(url)\n",
    "    div = sp.find(\"figure\", class_=\"wp-block-table\")\n",
    "    a_tag_links = div.find_all(\"a\", attrs={\"data-wpel-link\" : \"internal\"})\n",
    "#     print(a_tag_links)\n",
    "    links = [{\"text\" : a_tag.text, \"id\" : a_tag[\"href\"].split(\"/\")[-2]} for a_tag in a_tag_links]\n",
    "    return links\n",
    "\n",
    "homepageHandler(4, 2)"
   ]
  }
 ],
 "metadata": {
  "kernelspec": {
   "display_name": "Python 3 (ipykernel)",
   "language": "python",
   "name": "python3"
  },
  "language_info": {
   "codemirror_mode": {
    "name": "ipython",
    "version": 3
   },
   "file_extension": ".py",
   "mimetype": "text/x-python",
   "name": "python",
   "nbconvert_exporter": "python",
   "pygments_lexer": "ipython3",
   "version": "3.11.3"
  }
 },
 "nbformat": 4,
 "nbformat_minor": 5
}
